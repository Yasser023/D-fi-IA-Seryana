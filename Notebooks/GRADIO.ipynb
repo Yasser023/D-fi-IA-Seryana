{
  "nbformat": 4,
  "nbformat_minor": 0,
  "metadata": {
    "colab": {
      "provenance": []
    },
    "kernelspec": {
      "name": "python3",
      "display_name": "Python 3"
    }
  },
  "cells": [
    {
      "cell_type": "markdown",
      "metadata": {
        "id": "D_XJcxqx22uj"
      },
      "source": [
        "## Using Gradio to create a simple interface.\n",
        "\n",
        "Check out the library on [github](https://github.com/gradio-app/gradio-UI) and see the [getting started](https://gradio.app/getting_started.html) page for more demos."
      ]
    },
    {
      "cell_type": "markdown",
      "metadata": {
        "id": "AUHtJ20jYqd9"
      },
      "source": [
        "We'll start with a basic function that greets an input name."
      ]
    },
    {
      "cell_type": "code",
      "metadata": {
        "id": "qtlFLbke2Sob"
      },
      "source": [
        "#def greet(name):\n",
        "#  return \"Hello \" + name + \"!\"\n",
        "\n",
        "#greet(\"World\")"
      ],
      "execution_count": null,
      "outputs": []
    },
    {
      "cell_type": "markdown",
      "metadata": {
        "id": "R06dbZZaYJDq"
      },
      "source": [
        "Now we'll wrap this function with a Gradio interface."
      ]
    },
    {
      "cell_type": "code",
      "metadata": {
        "id": "fJUJLWQ92g6R"
      },
      "source": [
        "#!pip install -q gradio"
      ],
      "execution_count": null,
      "outputs": []
    },
    {
      "cell_type": "code",
      "metadata": {
        "id": "e200MmBU2aLT"
      },
      "source": [
        "#import gradio\n",
        "\n",
        "#gradio.Interface(greet, \"text\", \"text\").launch(share=True)"
      ],
      "execution_count": null,
      "outputs": []
    },
    {
      "cell_type": "markdown",
      "metadata": {
        "id": "uQheRaw5YVTL"
      },
      "source": [
        "That's all! Go ahead and open that share link in a new tab. Check out our [getting started](https://gradio.app/getting_started.html) page for more complicated demos."
      ]
    },
    {
      "cell_type": "markdown",
      "source": [
        "# Using gradio for our machine learning model"
      ],
      "metadata": {
        "id": "r8JztaG_569T"
      }
    },
    {
      "cell_type": "code",
      "source": [
        "pip install category_encoders"
      ],
      "metadata": {
        "colab": {
          "base_uri": "https://localhost:8080/"
        },
        "id": "3xgCBNNCpbTS",
        "outputId": "7a0bbaaf-fd98-4011-a6f8-546fbe72f3e8"
      },
      "execution_count": null,
      "outputs": [
        {
          "output_type": "stream",
          "name": "stdout",
          "text": [
            "Looking in indexes: https://pypi.org/simple, https://us-python.pkg.dev/colab-wheels/public/simple/\n",
            "Collecting category_encoders\n",
            "  Downloading category_encoders-2.5.1.post0-py2.py3-none-any.whl (72 kB)\n",
            "\u001b[?25l\r\u001b[K     |████▌                           | 10 kB 23.2 MB/s eta 0:00:01\r\u001b[K     |█████████                       | 20 kB 6.2 MB/s eta 0:00:01\r\u001b[K     |█████████████▋                  | 30 kB 8.8 MB/s eta 0:00:01\r\u001b[K     |██████████████████              | 40 kB 4.1 MB/s eta 0:00:01\r\u001b[K     |██████████████████████▋         | 51 kB 4.3 MB/s eta 0:00:01\r\u001b[K     |███████████████████████████▏    | 61 kB 5.0 MB/s eta 0:00:01\r\u001b[K     |███████████████████████████████▊| 71 kB 5.8 MB/s eta 0:00:01\r\u001b[K     |████████████████████████████████| 72 kB 617 kB/s \n",
            "\u001b[?25hRequirement already satisfied: patsy>=0.5.1 in /usr/local/lib/python3.8/dist-packages (from category_encoders) (0.5.3)\n",
            "Requirement already satisfied: pandas>=1.0.5 in /usr/local/lib/python3.8/dist-packages (from category_encoders) (1.3.5)\n",
            "Requirement already satisfied: statsmodels>=0.9.0 in /usr/local/lib/python3.8/dist-packages (from category_encoders) (0.12.2)\n",
            "Requirement already satisfied: scipy>=1.0.0 in /usr/local/lib/python3.8/dist-packages (from category_encoders) (1.7.3)\n",
            "Requirement already satisfied: scikit-learn>=0.20.0 in /usr/local/lib/python3.8/dist-packages (from category_encoders) (1.0.2)\n",
            "Requirement already satisfied: numpy>=1.14.0 in /usr/local/lib/python3.8/dist-packages (from category_encoders) (1.21.6)\n",
            "Requirement already satisfied: pytz>=2017.3 in /usr/local/lib/python3.8/dist-packages (from pandas>=1.0.5->category_encoders) (2022.6)\n",
            "Requirement already satisfied: python-dateutil>=2.7.3 in /usr/local/lib/python3.8/dist-packages (from pandas>=1.0.5->category_encoders) (2.8.2)\n",
            "Requirement already satisfied: six in /usr/local/lib/python3.8/dist-packages (from patsy>=0.5.1->category_encoders) (1.15.0)\n",
            "Requirement already satisfied: joblib>=0.11 in /usr/local/lib/python3.8/dist-packages (from scikit-learn>=0.20.0->category_encoders) (1.2.0)\n",
            "Requirement already satisfied: threadpoolctl>=2.0.0 in /usr/local/lib/python3.8/dist-packages (from scikit-learn>=0.20.0->category_encoders) (3.1.0)\n",
            "Installing collected packages: category-encoders\n",
            "Successfully installed category-encoders-2.5.1.post0\n"
          ]
        }
      ]
    },
    {
      "cell_type": "code",
      "source": [
        "import pickle\n",
        "import joblib\n",
        "import train\n",
        "import pandas as pd"
      ],
      "metadata": {
        "id": "xwqgepBg5_Aq",
        "colab": {
          "base_uri": "https://localhost:8080/"
        },
        "outputId": "9c9a7e14-7c1e-4b49-94e5-f796c7d0105b"
      },
      "execution_count": null,
      "outputs": [
        {
          "output_type": "stream",
          "name": "stderr",
          "text": [
            "/usr/local/lib/python3.8/dist-packages/category_encoders/target_encoder.py:122: FutureWarning: Default parameter min_samples_leaf will change in version 2.6.See https://github.com/scikit-learn-contrib/category_encoders/issues/327\n",
            "  warnings.warn(\"Default parameter min_samples_leaf will change in version 2.6.\"\n",
            "/usr/local/lib/python3.8/dist-packages/category_encoders/target_encoder.py:127: FutureWarning: Default parameter smoothing will change in version 2.6.See https://github.com/scikit-learn-contrib/category_encoders/issues/327\n",
            "  warnings.warn(\"Default parameter smoothing will change in version 2.6.\"\n"
          ]
        },
        {
          "output_type": "stream",
          "name": "stdout",
          "text": [
            "[12:21:49] WARNING: /workspace/src/objective/regression_obj.cu:152: reg:linear is now deprecated in favor of reg:squarederror.\n"
          ]
        }
      ]
    },
    {
      "cell_type": "code",
      "source": [
        "#Example of a model\n",
        "from sklearn.ensemble import RandomForestClassifier\n",
        "clf = train.xgb_model\n",
        "clf.fit(train.df_train, train.y) \n",
        "\n",
        "filename = \"Completed_model.joblib\"\n",
        "joblib.dump(clf, filename)"
      ],
      "metadata": {
        "id": "x0xMN9e-6a5i",
        "colab": {
          "base_uri": "https://localhost:8080/"
        },
        "outputId": "09c33ea7-6dd7-419e-804f-2cd7b1a1c021"
      },
      "execution_count": null,
      "outputs": [
        {
          "output_type": "stream",
          "name": "stdout",
          "text": [
            "[12:22:07] WARNING: /workspace/src/objective/regression_obj.cu:152: reg:linear is now deprecated in favor of reg:squarederror.\n"
          ]
        },
        {
          "output_type": "execute_result",
          "data": {
            "text/plain": [
              "['Completed_model.joblib']"
            ]
          },
          "metadata": {},
          "execution_count": 4
        }
      ]
    },
    {
      "cell_type": "code",
      "source": [
        "#loaded_model = joblib.load(filename)\n",
        "#features = pd.DataFrame({\n",
        "#    'stock': [0],\n",
        "#    'date' : [0],\n",
        "#    'mobile' : [0],\n",
        "#    'parking' : [0],\n",
        "#    'pool' : [0],\n",
        "#    'children_policy' : [0],\n",
        "#    'city_encoded' : [0],\n",
        "#    'language_encoded' : [0],\n",
        "#    'group_encoded' : [0],\n",
        "#    'brand_encoded' : [0]\n",
        "#})\n",
        "#predictions = loaded_model.predict(features)\n",
        "#type(predictions)"
      ],
      "metadata": {
        "colab": {
          "base_uri": "https://localhost:8080/"
        },
        "id": "9re3-2gzIWUQ",
        "outputId": "89a5b9dc-8e0b-4fb8-fff1-3dd6aa521bfb"
      },
      "execution_count": null,
      "outputs": [
        {
          "output_type": "stream",
          "name": "stdout",
          "text": [
            "[22:37:43] WARNING: /workspace/src/objective/regression_obj.cu:152: reg:linear is now deprecated in favor of reg:squarederror.\n"
          ]
        },
        {
          "output_type": "execute_result",
          "data": {
            "text/plain": [
              "numpy.ndarray"
            ]
          },
          "metadata": {},
          "execution_count": 42
        }
      ]
    },
    {
      "cell_type": "code",
      "source": [
        "#we can use this function as our \"greet\" function\n",
        "def make_prediction (stock,date,mobile,parking,pool,children,city,language,group,brand):\n",
        "  loaded_model = joblib.load(filename)\n",
        "  features = pd.DataFrame({\n",
        "    'stock': [stock],\n",
        "    'date' : [date],\n",
        "    'mobile' : [mobile],\n",
        "    'parking' : [parking],\n",
        "    'pool' : [pool],\n",
        "    'children_policy' : [children],\n",
        "    'city_encoded' : [city],\n",
        "    'language_encoded' : [language],\n",
        "    'group_encoded' : [group],\n",
        "    'brand_encoded' : [brand]\n",
        "})\n",
        "  predictions = loaded_model.predict(features)\n",
        "  #complete with what we want in the application\n",
        "  return predictions[0]\n"
      ],
      "metadata": {
        "id": "e5THcDpD8BU8"
      },
      "execution_count": null,
      "outputs": []
    },
    {
      "cell_type": "code",
      "source": [
        "print(make_prediction(0,0,0,0,0,0,0,0,0,0))"
      ],
      "metadata": {
        "colab": {
          "base_uri": "https://localhost:8080/"
        },
        "id": "FRZqnVWHG9bC",
        "outputId": "95d91f67-61fe-4ec0-bd43-ca4a63d6dcd3"
      },
      "execution_count": null,
      "outputs": [
        {
          "output_type": "stream",
          "name": "stdout",
          "text": [
            "[12:22:38] WARNING: /workspace/src/objective/regression_obj.cu:152: reg:linear is now deprecated in favor of reg:squarederror.\n",
            "52.6709\n"
          ]
        }
      ]
    },
    {
      "cell_type": "code",
      "source": [
        "!pip install -q gradio "
      ],
      "metadata": {
        "id": "hqct8jwHr-Ry",
        "colab": {
          "base_uri": "https://localhost:8080/"
        },
        "outputId": "c9a4b8f2-d157-4fc8-c5bf-1e966a71ecb0"
      },
      "execution_count": null,
      "outputs": [
        {
          "output_type": "stream",
          "name": "stdout",
          "text": [
            "\u001b[K     |████████████████████████████████| 13.8 MB 5.3 MB/s \n",
            "\u001b[K     |████████████████████████████████| 278 kB 79.0 MB/s \n",
            "\u001b[K     |████████████████████████████████| 84 kB 3.7 MB/s \n",
            "\u001b[K     |████████████████████████████████| 56 kB 5.0 MB/s \n",
            "\u001b[K     |████████████████████████████████| 55 kB 3.6 MB/s \n",
            "\u001b[K     |████████████████████████████████| 2.3 MB 40.8 MB/s \n",
            "\u001b[K     |████████████████████████████████| 106 kB 68.7 MB/s \n",
            "\u001b[K     |████████████████████████████████| 84 kB 3.1 MB/s \n",
            "\u001b[K     |████████████████████████████████| 64 kB 1.1 MB/s \n",
            "\u001b[K     |████████████████████████████████| 80 kB 8.9 MB/s \n",
            "\u001b[K     |████████████████████████████████| 69 kB 7.1 MB/s \n",
            "\u001b[K     |████████████████████████████████| 58 kB 5.3 MB/s \n",
            "\u001b[K     |████████████████████████████████| 50 kB 6.1 MB/s \n",
            "\u001b[?25h  Building wheel for ffmpy (setup.py) ... \u001b[?25l\u001b[?25hdone\n",
            "  Building wheel for python-multipart (setup.py) ... \u001b[?25l\u001b[?25hdone\n"
          ]
        }
      ]
    },
    {
      "cell_type": "code",
      "source": [
        "import gradio as gr\n",
        "\n",
        "stock_input = gr.Number(label = \"Stock\")\n",
        "date_input = gr.Number(label= \"Date\")\n",
        "mobile_input = gr.Number(label = \"Mobile\")\n",
        "parking_input = gr.Number(label = \"Parking\")\n",
        "pool_input = gr.Number(label = \"pool\")\n",
        "children_input = gr.Number(label = \"children\")\n",
        "city_input = gr.Number(label = \"city\")\n",
        "language_input = gr.Number(label = \"language\")\n",
        "group_input = gr.Number(label = \"group\")\n",
        "brand_input = gr.Number(label = \"brand\")\n",
        "# We create the output\n",
        "output = gr.Number()\n",
        "\n",
        "\n",
        "app = gr.Interface(fn = make_prediction, inputs=[stock_input, date_input, mobile_input, parking_input,pool_input,\n",
        "                                                 children_input,city_input,language_input,group_input,\n",
        "                                                 brand_input], outputs=output)\n",
        "app.launch()"
      ],
      "metadata": {
        "colab": {
          "base_uri": "https://localhost:8080/",
          "height": 616
        },
        "id": "663jMjEfsAla",
        "outputId": "20c45a9a-2171-449f-cb5d-fac2625a24b0"
      },
      "execution_count": null,
      "outputs": [
        {
          "output_type": "stream",
          "name": "stdout",
          "text": [
            "Colab notebook detected. To show errors in colab notebook, set debug=True in launch()\n",
            "Note: opening Chrome Inspector may crash demo inside Colab notebooks.\n",
            "\n",
            "To create a public link, set `share=True` in `launch()`.\n"
          ]
        },
        {
          "output_type": "display_data",
          "data": {
            "text/plain": [
              "<IPython.core.display.Javascript object>"
            ],
            "application/javascript": [
              "(async (port, path, width, height, cache, element) => {\n",
              "                        if (!google.colab.kernel.accessAllowed && !cache) {\n",
              "                            return;\n",
              "                        }\n",
              "                        element.appendChild(document.createTextNode(''));\n",
              "                        const url = await google.colab.kernel.proxyPort(port, {cache});\n",
              "\n",
              "                        const external_link = document.createElement('div');\n",
              "                        external_link.innerHTML = `\n",
              "                            <div style=\"font-family: monospace; margin-bottom: 0.5rem\">\n",
              "                                Running on <a href=${new URL(path, url).toString()} target=\"_blank\">\n",
              "                                    https://localhost:${port}${path}\n",
              "                                </a>\n",
              "                            </div>\n",
              "                        `;\n",
              "                        element.appendChild(external_link);\n",
              "\n",
              "                        const iframe = document.createElement('iframe');\n",
              "                        iframe.src = new URL(path, url).toString();\n",
              "                        iframe.height = height;\n",
              "                        iframe.allow = \"autoplay; camera; microphone; clipboard-read; clipboard-write;\"\n",
              "                        iframe.width = width;\n",
              "                        iframe.style.border = 0;\n",
              "                        element.appendChild(iframe);\n",
              "                    })(7860, \"/\", \"100%\", 500, false, window.element)"
            ]
          },
          "metadata": {}
        },
        {
          "output_type": "execute_result",
          "data": {
            "text/plain": []
          },
          "metadata": {},
          "execution_count": 10
        }
      ]
    },
    {
      "cell_type": "code",
      "source": [],
      "metadata": {
        "id": "qfeyTSyTFjoC"
      },
      "execution_count": null,
      "outputs": []
    }
  ]
}